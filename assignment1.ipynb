{
 "cells": [
  {
   "cell_type": "code",
   "execution_count": null,
   "id": "4de3b033-ddc4-433e-81b7-152b4e03f806",
   "metadata": {},
   "outputs": [],
   "source": [
    "1.python programming language was develovped by Guido van Rossum.\n",
    "\n",
    "2.python supports obeject oriented,structured and functional programming.\n",
    "\n",
    "3.yes, python is case sensetive language.\n",
    "\n",
    "4.  .py\n",
    "\n",
    "5.yes, it supports both.\n",
    "\n",
    "6. To define block of code we use identation.\n",
    "\n",
    "7.    #\n",
    "\n",
    "8. import sys\n",
    "   print(sys.version)\n",
    "    \n",
    "9.lambda\n",
    "\n",
    "10.preffered installer program,it is a package manager for python.\n",
    "\n",
    "11.len(),type(),bool(),list(),str(),int(),float().\n",
    "\n",
    "12.  79 characters\n",
    "\n",
    "13.  etensive library,potable,free and open source,interpreted and high level langauge.\n",
    "\n",
    "14. it is managed by python private heap space\n",
    "\n",
    "15.install python from python.org\n",
    "   command on your command prompt : cmd python.\n",
    "   goto advance system setting and add new variable and name it as PYTHON_NAME and paste the copied path.\n",
    "\n",
    "16.yes\n",
    "\n",
    "\n"
   ]
  }
 ],
 "metadata": {
  "kernelspec": {
   "display_name": "Python 3 (ipykernel)",
   "language": "python",
   "name": "python3"
  },
  "language_info": {
   "codemirror_mode": {
    "name": "ipython",
    "version": 3
   },
   "file_extension": ".py",
   "mimetype": "text/x-python",
   "name": "python",
   "nbconvert_exporter": "python",
   "pygments_lexer": "ipython3",
   "version": "3.10.8"
  }
 },
 "nbformat": 4,
 "nbformat_minor": 5
}
